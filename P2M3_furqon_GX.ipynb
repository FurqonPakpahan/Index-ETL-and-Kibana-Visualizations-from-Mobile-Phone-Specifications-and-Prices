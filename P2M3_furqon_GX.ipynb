{
 "cells": [
  {
   "cell_type": "markdown",
   "metadata": {},
   "source": [
    "*** =============================================================================================================== ***\n",
    "\n",
    "Dataset   :  Mobile Phone Specifications and Prices.\n",
    "\n",
    "*** =============================================================================================================== ***"
   ]
  },
  {
   "cell_type": "code",
   "execution_count": 1,
   "metadata": {},
   "outputs": [],
   "source": [
    "# Create a data context\n",
    "from great_expectations.data_context import FileDataContext\n",
    "\n",
    "context = FileDataContext.create(project_root_dir='./')"
   ]
  },
  {
   "cell_type": "code",
   "execution_count": 2,
   "metadata": {},
   "outputs": [],
   "source": [
    "# Give a name to a Datasource. This name must be unique between Datasources.\n",
    "datasource_name = 'mobile_data' \n",
    "datasource = context.sources.add_pandas(datasource_name)\n",
    "\n",
    "# Give a name to a data asset\n",
    "asset_name = 'Mobile_Phone_Specifications_and_Prices'\n",
    "path_to_data = 'P2M3_furqon_data_clean.csv' \n",
    "asset = datasource.add_csv_asset(asset_name, filepath_or_buffer=path_to_data)\n",
    "\n",
    "# Build batch request\n",
    "batch_request = asset.build_batch_request()"
   ]
  },
  {
   "cell_type": "code",
   "execution_count": 3,
   "metadata": {},
   "outputs": [
    {
     "data": {
      "application/vnd.jupyter.widget-view+json": {
       "model_id": "4b2f877418054dc7866c36632e11128d",
       "version_major": 2,
       "version_minor": 0
      },
      "text/plain": [
       "Calculating Metrics:   0%|          | 0/1 [00:00<?, ?it/s]"
      ]
     },
     "metadata": {},
     "output_type": "display_data"
    },
    {
     "data": {
      "text/html": [
       "<div>\n",
       "<style scoped>\n",
       "    .dataframe tbody tr th:only-of-type {\n",
       "        vertical-align: middle;\n",
       "    }\n",
       "\n",
       "    .dataframe tbody tr th {\n",
       "        vertical-align: top;\n",
       "    }\n",
       "\n",
       "    .dataframe thead th {\n",
       "        text-align: right;\n",
       "    }\n",
       "</style>\n",
       "<table border=\"1\" class=\"dataframe\">\n",
       "  <thead>\n",
       "    <tr style=\"text-align: right;\">\n",
       "      <th></th>\n",
       "      <th>Unnamed: 0</th>\n",
       "      <th>name</th>\n",
       "      <th>brand</th>\n",
       "      <th>model</th>\n",
       "      <th>battery_capacity_mah</th>\n",
       "      <th>screen_size_inches</th>\n",
       "      <th>touchscreen</th>\n",
       "      <th>resolution_x</th>\n",
       "      <th>resolution_y</th>\n",
       "      <th>processor</th>\n",
       "      <th>...</th>\n",
       "      <th>rear_camera</th>\n",
       "      <th>front_camera</th>\n",
       "      <th>operating_system</th>\n",
       "      <th>wi_Fi</th>\n",
       "      <th>bluetooth</th>\n",
       "      <th>gps</th>\n",
       "      <th>number_of_sims</th>\n",
       "      <th>3G</th>\n",
       "      <th>4g_lte</th>\n",
       "      <th>price</th>\n",
       "    </tr>\n",
       "  </thead>\n",
       "  <tbody>\n",
       "    <tr>\n",
       "      <th>0</th>\n",
       "      <td>0</td>\n",
       "      <td>OnePlus 7T Pro McLaren Edition</td>\n",
       "      <td>OnePlus</td>\n",
       "      <td>7T Pro McLaren Edition</td>\n",
       "      <td>4085</td>\n",
       "      <td>6.67</td>\n",
       "      <td>Yes</td>\n",
       "      <td>1440</td>\n",
       "      <td>3120</td>\n",
       "      <td>8</td>\n",
       "      <td>...</td>\n",
       "      <td>48.0</td>\n",
       "      <td>16.0</td>\n",
       "      <td>Android</td>\n",
       "      <td>Yes</td>\n",
       "      <td>Yes</td>\n",
       "      <td>Yes</td>\n",
       "      <td>2</td>\n",
       "      <td>Yes</td>\n",
       "      <td>Yes</td>\n",
       "      <td>58998</td>\n",
       "    </tr>\n",
       "    <tr>\n",
       "      <th>1</th>\n",
       "      <td>1</td>\n",
       "      <td>Realme X2 Pro</td>\n",
       "      <td>Realme</td>\n",
       "      <td>X2 Pro</td>\n",
       "      <td>4000</td>\n",
       "      <td>6.50</td>\n",
       "      <td>Yes</td>\n",
       "      <td>1080</td>\n",
       "      <td>2400</td>\n",
       "      <td>8</td>\n",
       "      <td>...</td>\n",
       "      <td>64.0</td>\n",
       "      <td>16.0</td>\n",
       "      <td>Android</td>\n",
       "      <td>Yes</td>\n",
       "      <td>Yes</td>\n",
       "      <td>Yes</td>\n",
       "      <td>2</td>\n",
       "      <td>Yes</td>\n",
       "      <td>Yes</td>\n",
       "      <td>27999</td>\n",
       "    </tr>\n",
       "    <tr>\n",
       "      <th>2</th>\n",
       "      <td>2</td>\n",
       "      <td>iPhone 11 Pro Max</td>\n",
       "      <td>Apple</td>\n",
       "      <td>iPhone 11 Pro Max</td>\n",
       "      <td>3969</td>\n",
       "      <td>6.50</td>\n",
       "      <td>Yes</td>\n",
       "      <td>1242</td>\n",
       "      <td>2688</td>\n",
       "      <td>6</td>\n",
       "      <td>...</td>\n",
       "      <td>12.0</td>\n",
       "      <td>12.0</td>\n",
       "      <td>iOS</td>\n",
       "      <td>Yes</td>\n",
       "      <td>Yes</td>\n",
       "      <td>Yes</td>\n",
       "      <td>2</td>\n",
       "      <td>Yes</td>\n",
       "      <td>Yes</td>\n",
       "      <td>106900</td>\n",
       "    </tr>\n",
       "    <tr>\n",
       "      <th>3</th>\n",
       "      <td>3</td>\n",
       "      <td>iPhone 11</td>\n",
       "      <td>Apple</td>\n",
       "      <td>iPhone 11</td>\n",
       "      <td>3110</td>\n",
       "      <td>6.10</td>\n",
       "      <td>Yes</td>\n",
       "      <td>828</td>\n",
       "      <td>1792</td>\n",
       "      <td>6</td>\n",
       "      <td>...</td>\n",
       "      <td>12.0</td>\n",
       "      <td>12.0</td>\n",
       "      <td>iOS</td>\n",
       "      <td>Yes</td>\n",
       "      <td>Yes</td>\n",
       "      <td>Yes</td>\n",
       "      <td>2</td>\n",
       "      <td>Yes</td>\n",
       "      <td>Yes</td>\n",
       "      <td>62900</td>\n",
       "    </tr>\n",
       "    <tr>\n",
       "      <th>4</th>\n",
       "      <td>4</td>\n",
       "      <td>LG G8X ThinQ</td>\n",
       "      <td>LG</td>\n",
       "      <td>G8X ThinQ</td>\n",
       "      <td>4000</td>\n",
       "      <td>6.40</td>\n",
       "      <td>Yes</td>\n",
       "      <td>1080</td>\n",
       "      <td>2340</td>\n",
       "      <td>8</td>\n",
       "      <td>...</td>\n",
       "      <td>12.0</td>\n",
       "      <td>32.0</td>\n",
       "      <td>Android</td>\n",
       "      <td>Yes</td>\n",
       "      <td>Yes</td>\n",
       "      <td>Yes</td>\n",
       "      <td>1</td>\n",
       "      <td>No</td>\n",
       "      <td>No</td>\n",
       "      <td>49990</td>\n",
       "    </tr>\n",
       "  </tbody>\n",
       "</table>\n",
       "<p>5 rows × 22 columns</p>\n",
       "</div>"
      ],
      "text/plain": [
       "   Unnamed: 0                            name    brand  \\\n",
       "0           0  OnePlus 7T Pro McLaren Edition  OnePlus   \n",
       "1           1                   Realme X2 Pro   Realme   \n",
       "2           2               iPhone 11 Pro Max    Apple   \n",
       "3           3                       iPhone 11    Apple   \n",
       "4           4                    LG G8X ThinQ       LG   \n",
       "\n",
       "                    model  battery_capacity_mah  screen_size_inches  \\\n",
       "0  7T Pro McLaren Edition                  4085                6.67   \n",
       "1                  X2 Pro                  4000                6.50   \n",
       "2       iPhone 11 Pro Max                  3969                6.50   \n",
       "3               iPhone 11                  3110                6.10   \n",
       "4               G8X ThinQ                  4000                6.40   \n",
       "\n",
       "  touchscreen  resolution_x  resolution_y  processor  ...  rear_camera  \\\n",
       "0         Yes          1440          3120          8  ...         48.0   \n",
       "1         Yes          1080          2400          8  ...         64.0   \n",
       "2         Yes          1242          2688          6  ...         12.0   \n",
       "3         Yes           828          1792          6  ...         12.0   \n",
       "4         Yes          1080          2340          8  ...         12.0   \n",
       "\n",
       "   front_camera  operating_system  wi_Fi bluetooth  gps number_of_sims   3G  \\\n",
       "0          16.0           Android    Yes       Yes  Yes              2  Yes   \n",
       "1          16.0           Android    Yes       Yes  Yes              2  Yes   \n",
       "2          12.0               iOS    Yes       Yes  Yes              2  Yes   \n",
       "3          12.0               iOS    Yes       Yes  Yes              2  Yes   \n",
       "4          32.0           Android    Yes       Yes  Yes              1   No   \n",
       "\n",
       "   4g_lte   price  \n",
       "0     Yes   58998  \n",
       "1     Yes   27999  \n",
       "2     Yes  106900  \n",
       "3     Yes   62900  \n",
       "4      No   49990  \n",
       "\n",
       "[5 rows x 22 columns]"
      ]
     },
     "execution_count": 3,
     "metadata": {},
     "output_type": "execute_result"
    }
   ],
   "source": [
    "# Creat an expectation suite\n",
    "expectation_suite_name = 'expectation-mobile_phone'\n",
    "context.add_or_update_expectation_suite(expectation_suite_name)\n",
    "\n",
    "# Create a validator using above expectation suite\n",
    "validator = context.get_validator(\n",
    "    batch_request = batch_request,\n",
    "    expectation_suite_name = expectation_suite_name\n",
    ")\n",
    "\n",
    "# Check the validator\n",
    "validator.head()"
   ]
  },
  {
   "cell_type": "code",
   "execution_count": 4,
   "metadata": {},
   "outputs": [
    {
     "data": {
      "application/vnd.jupyter.widget-view+json": {
       "model_id": "8058b3e3856841c7a91a1303b311bcd7",
       "version_major": 2,
       "version_minor": 0
      },
      "text/plain": [
       "Calculating Metrics:   0%|          | 0/8 [00:00<?, ?it/s]"
      ]
     },
     "metadata": {},
     "output_type": "display_data"
    },
    {
     "data": {
      "text/plain": [
       "{\n",
       "  \"success\": false,\n",
       "  \"result\": {\n",
       "    \"element_count\": 1359,\n",
       "    \"unexpected_count\": 1346,\n",
       "    \"unexpected_percent\": 99.04341427520235,\n",
       "    \"partial_unexpected_list\": [\n",
       "      \"OnePlus\",\n",
       "      \"Realme\",\n",
       "      \"Apple\",\n",
       "      \"Apple\",\n",
       "      \"LG\",\n",
       "      \"OnePlus\",\n",
       "      \"OnePlus\",\n",
       "      \"Samsung\",\n",
       "      \"Asus\",\n",
       "      \"Xiaomi\",\n",
       "      \"Oppo\",\n",
       "      \"Realme\",\n",
       "      \"Xiaomi\",\n",
       "      \"OnePlus\",\n",
       "      \"Oppo\",\n",
       "      \"Realme\",\n",
       "      \"Huawei\",\n",
       "      \"Xiaomi\",\n",
       "      \"Huawei\",\n",
       "      \"LG\"\n",
       "    ],\n",
       "    \"missing_count\": 0,\n",
       "    \"missing_percent\": 0.0,\n",
       "    \"unexpected_percent_total\": 99.04341427520235,\n",
       "    \"unexpected_percent_nonmissing\": 99.04341427520235\n",
       "  },\n",
       "  \"meta\": {},\n",
       "  \"exception_info\": {\n",
       "    \"raised_exception\": false,\n",
       "    \"exception_traceback\": null,\n",
       "    \"exception_message\": null\n",
       "  }\n",
       "}"
      ]
     },
     "execution_count": 4,
     "metadata": {},
     "output_type": "execute_result"
    }
   ],
   "source": [
    "validator.expect_column_values_to_be_unique('brand')"
   ]
  },
  {
   "cell_type": "code",
   "execution_count": 5,
   "metadata": {},
   "outputs": [
    {
     "data": {
      "application/vnd.jupyter.widget-view+json": {
       "model_id": "618eaa9b03934b41aa093a541b6de3ed",
       "version_major": 2,
       "version_minor": 0
      },
      "text/plain": [
       "Calculating Metrics:   0%|          | 0/8 [00:00<?, ?it/s]"
      ]
     },
     "metadata": {},
     "output_type": "display_data"
    },
    {
     "data": {
      "text/plain": [
       "{\n",
       "  \"success\": false,\n",
       "  \"result\": {\n",
       "    \"element_count\": 1359,\n",
       "    \"unexpected_count\": 1359,\n",
       "    \"unexpected_percent\": 100.0,\n",
       "    \"partial_unexpected_list\": [\n",
       "      58998,\n",
       "      27999,\n",
       "      106900,\n",
       "      62900,\n",
       "      49990,\n",
       "      34930,\n",
       "      52990,\n",
       "      79699,\n",
       "      37999,\n",
       "      23190,\n",
       "      23990,\n",
       "      14999,\n",
       "      19282,\n",
       "      39995,\n",
       "      36990,\n",
       "      13999,\n",
       "      54280,\n",
       "      9799,\n",
       "      63990,\n",
       "      29999\n",
       "    ],\n",
       "    \"missing_count\": 0,\n",
       "    \"missing_percent\": 0.0,\n",
       "    \"unexpected_percent_total\": 100.0,\n",
       "    \"unexpected_percent_nonmissing\": 100.0\n",
       "  },\n",
       "  \"meta\": {},\n",
       "  \"exception_info\": {\n",
       "    \"raised_exception\": false,\n",
       "    \"exception_traceback\": null,\n",
       "    \"exception_message\": null\n",
       "  }\n",
       "}"
      ]
     },
     "execution_count": 5,
     "metadata": {},
     "output_type": "execute_result"
    }
   ],
   "source": [
    "validator.expect_column_values_to_be_between(\n",
    "    column='price', min_value=0, max_value=100\n",
    ")"
   ]
  },
  {
   "cell_type": "code",
   "execution_count": 6,
   "metadata": {},
   "outputs": [
    {
     "data": {
      "application/vnd.jupyter.widget-view+json": {
       "model_id": "1df2f84d624d44d9a6fc033b53b960f3",
       "version_major": 2,
       "version_minor": 0
      },
      "text/plain": [
       "Calculating Metrics:   0%|          | 0/8 [00:00<?, ?it/s]"
      ]
     },
     "metadata": {},
     "output_type": "display_data"
    },
    {
     "data": {
      "text/plain": [
       "{\n",
       "  \"success\": false,\n",
       "  \"result\": {\n",
       "    \"element_count\": 1359,\n",
       "    \"unexpected_count\": 1359,\n",
       "    \"unexpected_percent\": 100.0,\n",
       "    \"partial_unexpected_list\": [\n",
       "      \"Android\",\n",
       "      \"Android\",\n",
       "      \"iOS\",\n",
       "      \"iOS\",\n",
       "      \"Android\",\n",
       "      \"Android\",\n",
       "      \"Android\",\n",
       "      \"Android\",\n",
       "      \"Android\",\n",
       "      \"Android\",\n",
       "      \"Android\",\n",
       "      \"Android\",\n",
       "      \"Android\",\n",
       "      \"Android\",\n",
       "      \"Android\",\n",
       "      \"Android\",\n",
       "      \"Android\",\n",
       "      \"Android\",\n",
       "      \"Android\",\n",
       "      \"Android\"\n",
       "    ],\n",
       "    \"missing_count\": 0,\n",
       "    \"missing_percent\": 0.0,\n",
       "    \"unexpected_percent_total\": 100.0,\n",
       "    \"unexpected_percent_nonmissing\": 100.0\n",
       "  },\n",
       "  \"meta\": {},\n",
       "  \"exception_info\": {\n",
       "    \"raised_exception\": false,\n",
       "    \"exception_traceback\": null,\n",
       "    \"exception_message\": null\n",
       "  }\n",
       "}"
      ]
     },
     "execution_count": 6,
     "metadata": {},
     "output_type": "execute_result"
    }
   ],
   "source": [
    "validator.expect_column_values_to_be_in_set('operating_system', [1, 2, 3, 4, 5, 6])"
   ]
  },
  {
   "cell_type": "code",
   "execution_count": 7,
   "metadata": {},
   "outputs": [
    {
     "data": {
      "application/vnd.jupyter.widget-view+json": {
       "model_id": "8fb60c1deea54b55a264c6de3a6f1eb4",
       "version_major": 2,
       "version_minor": 0
      },
      "text/plain": [
       "Calculating Metrics:   0%|          | 0/1 [00:00<?, ?it/s]"
      ]
     },
     "metadata": {},
     "output_type": "display_data"
    },
    {
     "data": {
      "text/plain": [
       "{\n",
       "  \"success\": true,\n",
       "  \"result\": {\n",
       "    \"observed_value\": \"float64\"\n",
       "  },\n",
       "  \"meta\": {},\n",
       "  \"exception_info\": {\n",
       "    \"raised_exception\": false,\n",
       "    \"exception_traceback\": null,\n",
       "    \"exception_message\": null\n",
       "  }\n",
       "}"
      ]
     },
     "execution_count": 7,
     "metadata": {},
     "output_type": "execute_result"
    }
   ],
   "source": [
    "validator.expect_column_values_to_be_in_type_list('rear_camera', ['integer', 'float'])"
   ]
  },
  {
   "cell_type": "code",
   "execution_count": 8,
   "metadata": {},
   "outputs": [
    {
     "data": {
      "application/vnd.jupyter.widget-view+json": {
       "model_id": "5df75071d56c47318075aa8feb8ed4d3",
       "version_major": 2,
       "version_minor": 0
      },
      "text/plain": [
       "Calculating Metrics:   0%|          | 0/2 [00:00<?, ?it/s]"
      ]
     },
     "metadata": {},
     "output_type": "display_data"
    },
    {
     "data": {
      "text/plain": [
       "{\n",
       "  \"success\": true,\n",
       "  \"result\": {},\n",
       "  \"meta\": {},\n",
       "  \"exception_info\": {\n",
       "    \"raised_exception\": false,\n",
       "    \"exception_traceback\": null,\n",
       "    \"exception_message\": null\n",
       "  }\n",
       "}"
      ]
     },
     "execution_count": 8,
     "metadata": {},
     "output_type": "execute_result"
    }
   ],
   "source": [
    "validator.expect_column_to_exist(column='price')"
   ]
  },
  {
   "cell_type": "code",
   "execution_count": 9,
   "metadata": {},
   "outputs": [
    {
     "data": {
      "application/vnd.jupyter.widget-view+json": {
       "model_id": "cdc3eb3e7bd54913b68ab487eedb73b9",
       "version_major": 2,
       "version_minor": 0
      },
      "text/plain": [
       "Calculating Metrics:   0%|          | 0/8 [00:00<?, ?it/s]"
      ]
     },
     "metadata": {},
     "output_type": "display_data"
    },
    {
     "data": {
      "text/plain": [
       "{\n",
       "  \"success\": true,\n",
       "  \"result\": {\n",
       "    \"element_count\": 1359,\n",
       "    \"unexpected_count\": 0,\n",
       "    \"unexpected_percent\": 0.0,\n",
       "    \"partial_unexpected_list\": [],\n",
       "    \"missing_count\": 0,\n",
       "    \"missing_percent\": 0.0,\n",
       "    \"unexpected_percent_total\": 0.0,\n",
       "    \"unexpected_percent_nonmissing\": 0.0\n",
       "  },\n",
       "  \"meta\": {},\n",
       "  \"exception_info\": {\n",
       "    \"raised_exception\": false,\n",
       "    \"exception_traceback\": null,\n",
       "    \"exception_message\": null\n",
       "  }\n",
       "}"
      ]
     },
     "execution_count": 9,
     "metadata": {},
     "output_type": "execute_result"
    }
   ],
   "source": [
    "validator.expect_column_values_to_be_between(\n",
    "    column='front_camera', min_value=0.00, max_value=100.00\n",
    ")"
   ]
  },
  {
   "cell_type": "code",
   "execution_count": 10,
   "metadata": {},
   "outputs": [
    {
     "data": {
      "application/vnd.jupyter.widget-view+json": {
       "model_id": "f5cb76b1204647a5a94af7fc76c16043",
       "version_major": 2,
       "version_minor": 0
      },
      "text/plain": [
       "Calculating Metrics:   0%|          | 0/6 [00:00<?, ?it/s]"
      ]
     },
     "metadata": {},
     "output_type": "display_data"
    },
    {
     "data": {
      "text/plain": [
       "{\n",
       "  \"success\": true,\n",
       "  \"result\": {\n",
       "    \"element_count\": 1359,\n",
       "    \"unexpected_count\": 0,\n",
       "    \"unexpected_percent\": 0.0,\n",
       "    \"partial_unexpected_list\": []\n",
       "  },\n",
       "  \"meta\": {},\n",
       "  \"exception_info\": {\n",
       "    \"raised_exception\": false,\n",
       "    \"exception_traceback\": null,\n",
       "    \"exception_message\": null\n",
       "  }\n",
       "}"
      ]
     },
     "execution_count": 10,
     "metadata": {},
     "output_type": "execute_result"
    }
   ],
   "source": [
    "validator.expect_column_values_to_not_be_null('touchscreen')"
   ]
  },
  {
   "cell_type": "code",
   "execution_count": 11,
   "metadata": {},
   "outputs": [],
   "source": [
    "# Save into Expectation Suite\n",
    "validator.save_expectation_suite(discard_failed_expectations=False)"
   ]
  }
 ],
 "metadata": {
  "kernelspec": {
   "display_name": "hacktiv",
   "language": "python",
   "name": "python3"
  },
  "language_info": {
   "codemirror_mode": {
    "name": "ipython",
    "version": 3
   },
   "file_extension": ".py",
   "mimetype": "text/x-python",
   "name": "python",
   "nbconvert_exporter": "python",
   "pygments_lexer": "ipython3",
   "version": "3.9.0"
  }
 },
 "nbformat": 4,
 "nbformat_minor": 2
}
